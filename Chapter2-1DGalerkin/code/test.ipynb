{
 "cells": [
  {
   "cell_type": "code",
   "execution_count": 1,
   "metadata": {},
   "outputs": [],
   "source": [
    "using Plots;\n",
    "include(\"Euler.jl\");"
   ]
  },
  {
   "cell_type": "code",
   "execution_count": 2,
   "metadata": {},
   "outputs": [],
   "source": [
    "a = 0.;\n",
    "b = 3.;\n",
    "y0 = 0;\n",
    "devide = 300;\n",
    "h = (b-a)/devide\n",
    "\n",
    "function f_origin(x)\n",
    "    y = (x^3 - 3*x^2 + 6*x - 6) * exp(x) + 6;\n",
    "    return y;\n",
    "end\n",
    "\n",
    "function f(x)\n",
    "    y = exp(x) * x^3;\n",
    "    return y;\n",
    "end\n",
    "\n",
    "xreal = collect(a: 10*h: b);\n",
    "yreal = f_origin.(xreal);\n",
    "\n",
    "xnumer, ynumer = EulerForward(a, b, y0, f, devide)\n",
    "\n",
    "scatter(xreal, yreal, lw=20, color=:red, label=\"real solution\")\n",
    "plot!(xnumer, ynumer, lw=10, color=:blue, label=\"fdm solution\", alpha=0.5)\n",
    "savefig(\"..//image//fdm_example.png\")"
   ]
  },
  {
   "cell_type": "code",
   "execution_count": 3,
   "metadata": {},
   "outputs": [],
   "source": [
    "include(\"Galerkin1D.jl\");\n",
    "u0 = y0;\n",
    "xmesh = collect(0:0.01:3);\n",
    "u = Galerkin1D_ODE1_Simpson(xmesh, u0, f);\n",
    "\n",
    "plot!(xmesh, u, lw=20, color=:green, alpha=0.3, label=\"fem solution\")\n",
    "savefig(\"..//image//fem_example.png\")"
   ]
  },
  {
   "cell_type": "code",
   "execution_count": 4,
   "metadata": {},
   "outputs": [
    {
     "name": "stdout",
     "output_type": "stream",
     "text": [
      "247.02644307825202\n",
      "249.74702900771513\n",
      "246.9996569253274\n"
     ]
    }
   ],
   "source": [
    "println(yreal[end])\n",
    "println(ynumer[end])\n",
    "println(u[end])"
   ]
  },
  {
   "cell_type": "code",
   "execution_count": null,
   "metadata": {},
   "outputs": [],
   "source": []
  }
 ],
 "metadata": {
  "kernelspec": {
   "display_name": "Julia 1.4.1",
   "language": "julia",
   "name": "julia-1.4"
  },
  "language_info": {
   "file_extension": ".jl",
   "mimetype": "application/julia",
   "name": "julia",
   "version": "1.4.1"
  },
  "orig_nbformat": 4,
  "vscode": {
   "interpreter": {
    "hash": "916dbcbb3f70747c44a77c7bcd40155683ae19c65e1c03b4aa3499c5328201f1"
   }
  }
 },
 "nbformat": 4,
 "nbformat_minor": 2
}
