{
 "cells": [
  {
   "cell_type": "code",
   "execution_count": 1,
   "metadata": {},
   "outputs": [],
   "source": [
    "using Plots;\n",
    "include(\"Euler.jl\");"
   ]
  },
  {
   "cell_type": "code",
   "execution_count": 2,
   "metadata": {},
   "outputs": [],
   "source": [
    "a = 0.;\n",
    "b = 3.;\n",
    "y0 = 0;\n",
    "devide = 300;\n",
    "h = (b-a)/devide\n",
    "\n",
    "function f_origin(x)\n",
    "    y = (x^3 - 3*x^2 + 6*x - 6) * exp(x) + 6;\n",
    "    return y;\n",
    "end\n",
    "\n",
    "function f(x)\n",
    "    y = exp(x) * x^3;\n",
    "    return y;\n",
    "end\n",
    "\n",
    "xreal = collect(a: h: b);\n",
    "yreal = f_origin.(xreal);\n",
    "\n",
    "xnumer, ynumer = EulerForward(a, b, y0, f, devide)\n",
    "\n",
    "plot(xreal, yreal, lw=10, label=\"real solution\", alpha=0.5)\n",
    "plot!(xnumer, ynumer, lw=3, label=\"numerical solution\")\n",
    "savefig(\"..//image//fdm_example.png\")"
   ]
  }
 ],
 "metadata": {
  "kernelspec": {
   "display_name": "Julia 1.4.1",
   "language": "julia",
   "name": "julia-1.4"
  },
  "language_info": {
   "file_extension": ".jl",
   "mimetype": "application/julia",
   "name": "julia",
   "version": "1.4.1"
  },
  "orig_nbformat": 4
 },
 "nbformat": 4,
 "nbformat_minor": 2
}
