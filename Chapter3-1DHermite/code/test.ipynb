{
 "cells": [
  {
   "cell_type": "code",
   "execution_count": 1,
   "metadata": {},
   "outputs": [],
   "source": [
    "using Plots;\n",
    "include(\"1DHermite.jl\");"
   ]
  },
  {
   "cell_type": "code",
   "execution_count": 2,
   "metadata": {},
   "outputs": [],
   "source": [
    "m = 1.;\n",
    "c = 10.;\n",
    "k = 10000.;\n",
    "\n",
    "x0 = 10.;\n",
    "v0 = 0.;\n",
    "\n",
    "dt = 0.02;\n",
    "time = 1.;\n",
    "t = collect(0:dt:time);\n",
    "FN = 5.;\n",
    "f = 10;\n",
    "\n",
    "function Fexternal(tau)\n",
    "    return FN*sin(2*pi*f*tau);\n",
    "end\n",
    "\n",
    "x, x_ = Hermite1D_ODE2_Simpson(t, Fexternal, x0, v0, m, c, k);\n",
    "\n",
    "tm, xm, x_m = Hermite1D_ODE2_Interpolation(t, x, x_);"
   ]
  },
  {
   "cell_type": "code",
   "execution_count": 3,
   "metadata": {},
   "outputs": [],
   "source": [
    "function RealSolution_(t)\n",
    "    return 0.0513551*cos(62.8319*t) + 0.00533155*sin(62.8319*t) + exp(-5*t)*(-0.0513551*cos(99.8749*t) - 1001.26*sin(99.8749*t));\n",
    "end\n",
    "\n",
    "function RealSolution(t)\n",
    "    return -0.0000848542*cos(62.8319*t) + 10.0001*exp(-5*t)*cos(99.8749*t) + 0.000817342*sin(62.8319*t) + 0.500116*exp(-5*t)*sin(99.8749*t);\n",
    "end\n",
    "\n",
    "treal = collect(0:dt/100:time);\n",
    "xreal = RealSolution.(treal);\n",
    "xreal_ = RealSolution_.(treal);\n",
    "\n",
    "plot(treal, xreal, label=\"real solution\", lw=2, color=:red)\n",
    "plot!(tm, xm, label=\"hermite galerkin solution\", lw=5, alpha=0.3, color=:blue)\n",
    "savefig(\"..//image//HermiteVibration.png\")"
   ]
  },
  {
   "cell_type": "code",
   "execution_count": null,
   "metadata": {},
   "outputs": [],
   "source": []
  }
 ],
 "metadata": {
  "kernelspec": {
   "display_name": "Julia 1.4.1",
   "language": "julia",
   "name": "julia-1.4"
  },
  "language_info": {
   "file_extension": ".jl",
   "mimetype": "application/julia",
   "name": "julia",
   "version": "1.4.1"
  },
  "orig_nbformat": 4
 },
 "nbformat": 4,
 "nbformat_minor": 2
}
